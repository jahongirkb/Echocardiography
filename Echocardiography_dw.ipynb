{
  "nbformat": 4,
  "nbformat_minor": 0,
  "metadata": {
    "accelerator": "GPU",
    "colab": {
      "name": "Echocardiography_dw.ipynb",
      "provenance": [],
      "collapsed_sections": []
    },
    "kernelspec": {
      "display_name": "Python 3",
      "name": "python3"
    },
    "language_info": {
      "name": "python"
    }
  },
  "cells": [
    {
      "cell_type": "code",
      "metadata": {
        "id": "swZdFcJr7rsx"
      },
      "source": [
        "import torch\n",
        "from torch import nn\n",
        "from torch.utils.data import DataLoader\n",
        "import cv2\n",
        "import numpy as np\n",
        "import torchvision\n",
        "from torchvision import transforms\n",
        "import matplotlib.pyplot as plt\n",
        "from collections import namedtuple\n",
        "from sklearn.metrics import classification_report"
      ],
      "execution_count": null,
      "outputs": []
    },
    {
      "cell_type": "code",
      "metadata": {
        "colab": {
          "base_uri": "https://localhost:8080/"
        },
        "id": "w6ts0P599avt",
        "outputId": "018b9681-fa8c-495f-8aca-2669b93e9e5f"
      },
      "source": [
        "!git clone https://github.com/jahongirkb/Echocardiography.git"
      ],
      "execution_count": null,
      "outputs": [
        {
          "output_type": "stream",
          "name": "stdout",
          "text": [
            "Cloning into 'Echocardiography'...\n",
            "remote: Enumerating objects: 8331, done.\u001b[K\n",
            "remote: Counting objects: 100% (3/3), done.\u001b[K\n",
            "remote: Total 8331 (delta 0), reused 3 (delta 0), pack-reused 8328\u001b[K\n",
            "Receiving objects: 100% (8331/8331), 488.02 MiB | 33.39 MiB/s, done.\n",
            "Resolving deltas: 100% (2/2), done.\n",
            "Checking out files: 100% (8328/8328), done.\n"
          ]
        }
      ]
    },
    {
      "cell_type": "code",
      "metadata": {
        "id": "BlmhwobpMLqa"
      },
      "source": [
        " TrainTest = namedtuple('TrainTest', ['train', 'test'])\n",
        "\n",
        "def get_classes():\n",
        "  classes = ['2C', '3C', '4C']\n",
        "  return classes\n",
        "\n",
        "def prepare_data():\n",
        "  size = 224\n",
        "  # raw\n",
        "  transform_train_raw = transforms.Compose([\n",
        "    transforms.Resize((size, size)),\n",
        "    transforms.ToTensor()\n",
        "  ])\n",
        "\n",
        "  # preprocess\n",
        "  transform_train_preprocess = transforms.Compose([\n",
        "    transforms.Resize((size, size)),\n",
        "    transforms.GaussianBlur(3),\n",
        "    transforms.RandomRotation(2.8),\n",
        "    #transforms.Normalize((0.485, 0.456, 0.406), (0.229, 0.224, 0.225)),\n",
        "    transforms.ToTensor()\n",
        "  ])\n",
        "\n",
        "  # augmentation\n",
        "  transform_train_augmentation = transforms.Compose([\n",
        "    transforms.Resize((size, size)),\n",
        "    transforms.RandomCrop(size, padding=4),\n",
        "    transforms.RandomHorizontalFlip(),\n",
        "    transforms.ColorJitter(brightness=0.3, contrast=0.1),\n",
        "    transforms.ToTensor()\n",
        "  ])\n",
        "\n",
        "  # test\n",
        "  transform_test = transforms.Compose([\n",
        "    transforms.Resize((size, size)),                                 \n",
        "    transforms.ToTensor()\n",
        "  ])\n",
        "\n",
        "  trainset = torchvision.datasets.ImageFolder(\n",
        "      root='/content/Echocardiography/DATA_CHAMBER_2021/train', transform=transform_train_augmentation)\n",
        "  testset = torchvision.datasets.ImageFolder(\n",
        "      root='/content/Echocardiography/DATA_CHAMBER_2021/test', transform=transform_test)\n",
        "  return TrainTest(train=trainset, test=testset)\n",
        "\n",
        "def prepare_loader(datasets):\n",
        "  batch_size = 32\n",
        "  trainloader = DataLoader(dataset=datasets.train, batch_size=batch_size, shuffle=True, num_workers=2)\n",
        "  testloader = DataLoader(dataset=datasets.test, batch_size=batch_size, shuffle=False, num_workers=2)\n",
        "  return TrainTest(train=trainloader, test=testloader)\n"
      ],
      "execution_count": null,
      "outputs": []
    },
    {
      "cell_type": "code",
      "metadata": {
        "id": "Yf04d5HtRr5q"
      },
      "source": [
        "def train_epoch(epoch, model, loader, loss_func, optimizer, device):\n",
        "  model.train()\n",
        "  running_loss = 0.0\n",
        "  reporting_step = 40\n",
        "  for i, (images, labels) in enumerate(loader):\n",
        "    images, labels = images.to(device), labels.to(device)\n",
        "    \n",
        "    outputs = model(images)\n",
        "    loss = loss_func(outputs, labels)\n",
        "    \n",
        "    optimizer.zero_grad()\n",
        "    loss.backward()\n",
        "    optimizer.step()\n",
        "        \n",
        "    running_loss += loss.item()\n",
        "    if i % reporting_step == reporting_step - 1:\n",
        "        print(f\"Epoch {epoch} Step {i} ave_loss {running_loss/reporting_step:0.4f}\")\n",
        "        running_loss = 0.0\n",
        "\n",
        "def test_epoch(epoch, model, loader, device):\n",
        "  pred = []\n",
        "  true = []\n",
        "  with torch.no_grad():\n",
        "    model.eval()\n",
        "    for i, (images, labels) in enumerate(loader):\n",
        "      images, labels = images.to(device), labels.to(device)\n",
        "\n",
        "      outputs = model(images)\n",
        "      _, predicted = torch.max(outputs, dim=1)\n",
        "      pred += list(predicted.cpu().numpy())\n",
        "      true += list(labels.cpu().numpy())\n",
        "  return pred, true"
      ],
      "execution_count": null,
      "outputs": []
    },
    {
      "cell_type": "code",
      "metadata": {
        "id": "Uf8D9zexVB_6"
      },
      "source": [
        "def main(model=None):\n",
        "  classes = get_classes()\n",
        "  datasets = prepare_data()\n",
        "  loaders = prepare_loader(datasets)\n",
        "  device = torch.device(\"cuda:0\" if torch.cuda.is_available() else \"cpu\")\n",
        "  print(device)\n",
        "\n",
        "  if model == 'vgg16':\n",
        "    PATH = './vgg16.pth'\n",
        "    model = torchvision.models.vgg16()\n",
        "    model.classifier[6] = torch.nn.modules.Linear(in_features=4096, out_features=3)\n",
        "  elif model == 'vgg19':\n",
        "    PATH = './vgg19.pth'\n",
        "    model = torchvision.models.vgg19()\n",
        "    model.classifier[6] = torch.nn.modules.Linear(in_features=4096, out_features=3)\n",
        "  elif model == 'resnet50':\n",
        "    PATH = './resnet50.pth'\n",
        "    model = torchvision.models.resnet50()\n",
        "    model.fc = torch.nn.modules.Linear(in_features=2048, out_features=3)\n",
        "\n",
        "  model.to(device)\n",
        "  loss_function = nn.CrossEntropyLoss()\n",
        "  optimizer = torch.optim.SGD(model.parameters(), lr=0.01, momentum=0.9, weight_decay=5e-4)\n",
        "\n",
        "  for epoch in range(10):\n",
        "    train_epoch(epoch, model, loaders.train, loss_function, optimizer, device)\n",
        "    pred, true = test_epoch(epoch, model, loaders.test, device)\n",
        "    print(classification_report(true, pred, target_names=classes))  \n",
        "    print(\"---------------------------------------------------------------\")      \n",
        "\n",
        "    torch.save(model.state_dict(), PATH)\n",
        "  return model"
      ],
      "execution_count": null,
      "outputs": []
    },
    {
      "cell_type": "code",
      "metadata": {
        "id": "8eTqXVgbQ7pv",
        "colab": {
          "base_uri": "https://localhost:8080/"
        },
        "outputId": "6276e054-da96-4238-9013-b5590db7f371"
      },
      "source": [
        "modelVGG16 = main(model='vgg16')"
      ],
      "execution_count": null,
      "outputs": [
        {
          "output_type": "stream",
          "name": "stdout",
          "text": [
            "cuda:0\n",
            "Epoch 0 Step 39 ave_loss 1.0945\n",
            "Epoch 0 Step 79 ave_loss 1.0941\n",
            "Epoch 0 Step 119 ave_loss 1.0854\n",
            "Epoch 0 Step 159 ave_loss 1.0595\n",
            "Epoch 0 Step 199 ave_loss 1.0100\n"
          ]
        },
        {
          "output_type": "stream",
          "name": "stderr",
          "text": [
            "/usr/local/lib/python3.7/dist-packages/sklearn/metrics/_classification.py:1318: UndefinedMetricWarning: Precision and F-score are ill-defined and being set to 0.0 in labels with no predicted samples. Use `zero_division` parameter to control this behavior.\n",
            "  _warn_prf(average, modifier, msg_start, len(result))\n",
            "/usr/local/lib/python3.7/dist-packages/sklearn/metrics/_classification.py:1318: UndefinedMetricWarning: Precision and F-score are ill-defined and being set to 0.0 in labels with no predicted samples. Use `zero_division` parameter to control this behavior.\n",
            "  _warn_prf(average, modifier, msg_start, len(result))\n",
            "/usr/local/lib/python3.7/dist-packages/sklearn/metrics/_classification.py:1318: UndefinedMetricWarning: Precision and F-score are ill-defined and being set to 0.0 in labels with no predicted samples. Use `zero_division` parameter to control this behavior.\n",
            "  _warn_prf(average, modifier, msg_start, len(result))\n"
          ]
        },
        {
          "output_type": "stream",
          "name": "stdout",
          "text": [
            "              precision    recall  f1-score   support\n",
            "\n",
            "          2C       0.00      0.00      0.00       409\n",
            "          3C       0.00      0.00      0.00       367\n",
            "          4C       0.52      1.00      0.68       831\n",
            "\n",
            "    accuracy                           0.52      1607\n",
            "   macro avg       0.17      0.33      0.23      1607\n",
            "weighted avg       0.27      0.52      0.35      1607\n",
            "\n",
            "---------------------------------------------------------------\n",
            "Epoch 1 Step 39 ave_loss 1.0408\n",
            "Epoch 1 Step 79 ave_loss 1.0452\n",
            "Epoch 1 Step 119 ave_loss 0.9253\n",
            "Epoch 1 Step 159 ave_loss 0.7413\n",
            "Epoch 1 Step 199 ave_loss 0.6858\n",
            "              precision    recall  f1-score   support\n",
            "\n",
            "          2C       0.85      0.56      0.68       409\n",
            "          3C       0.38      0.89      0.53       367\n",
            "          4C       0.98      0.57      0.72       831\n",
            "\n",
            "    accuracy                           0.64      1607\n",
            "   macro avg       0.73      0.67      0.64      1607\n",
            "weighted avg       0.81      0.64      0.66      1607\n",
            "\n",
            "---------------------------------------------------------------\n",
            "Epoch 2 Step 39 ave_loss 0.5628\n",
            "Epoch 2 Step 79 ave_loss 0.4818\n",
            "Epoch 2 Step 119 ave_loss 0.4274\n",
            "Epoch 2 Step 159 ave_loss 0.3292\n",
            "Epoch 2 Step 199 ave_loss 0.1965\n",
            "              precision    recall  f1-score   support\n",
            "\n",
            "          2C       0.90      0.76      0.82       409\n",
            "          3C       0.70      0.41      0.52       367\n",
            "          4C       0.73      0.92      0.81       831\n",
            "\n",
            "    accuracy                           0.76      1607\n",
            "   macro avg       0.78      0.70      0.72      1607\n",
            "weighted avg       0.77      0.76      0.75      1607\n",
            "\n",
            "---------------------------------------------------------------\n",
            "Epoch 3 Step 39 ave_loss 0.2161\n",
            "Epoch 3 Step 79 ave_loss 0.2711\n",
            "Epoch 3 Step 119 ave_loss 0.1247\n",
            "Epoch 3 Step 159 ave_loss 0.1348\n",
            "Epoch 3 Step 199 ave_loss 0.1288\n",
            "              precision    recall  f1-score   support\n",
            "\n",
            "          2C       0.94      0.87      0.90       409\n",
            "          3C       0.49      0.77      0.60       367\n",
            "          4C       0.88      0.70      0.78       831\n",
            "\n",
            "    accuracy                           0.76      1607\n",
            "   macro avg       0.77      0.78      0.76      1607\n",
            "weighted avg       0.81      0.76      0.77      1607\n",
            "\n",
            "---------------------------------------------------------------\n",
            "Epoch 4 Step 39 ave_loss 0.0838\n",
            "Epoch 4 Step 79 ave_loss 0.0907\n",
            "Epoch 4 Step 119 ave_loss 0.0786\n",
            "Epoch 4 Step 159 ave_loss 0.0461\n",
            "Epoch 4 Step 199 ave_loss 0.0316\n",
            "              precision    recall  f1-score   support\n",
            "\n",
            "          2C       0.77      0.92      0.84       409\n",
            "          3C       0.60      0.79      0.68       367\n",
            "          4C       0.90      0.68      0.77       831\n",
            "\n",
            "    accuracy                           0.77      1607\n",
            "   macro avg       0.75      0.80      0.76      1607\n",
            "weighted avg       0.80      0.77      0.77      1607\n",
            "\n",
            "---------------------------------------------------------------\n",
            "Epoch 5 Step 39 ave_loss 0.0379\n",
            "Epoch 5 Step 79 ave_loss 0.0550\n",
            "Epoch 5 Step 119 ave_loss 0.0763\n",
            "Epoch 5 Step 159 ave_loss 0.0354\n",
            "Epoch 5 Step 199 ave_loss 0.0533\n",
            "              precision    recall  f1-score   support\n",
            "\n",
            "          2C       0.65      0.99      0.78       409\n",
            "          3C       0.55      0.70      0.61       367\n",
            "          4C       0.85      0.52      0.65       831\n",
            "\n",
            "    accuracy                           0.68      1607\n",
            "   macro avg       0.68      0.74      0.68      1607\n",
            "weighted avg       0.73      0.68      0.68      1607\n",
            "\n",
            "---------------------------------------------------------------\n",
            "Epoch 6 Step 39 ave_loss 0.0420\n",
            "Epoch 6 Step 79 ave_loss 0.0414\n",
            "Epoch 6 Step 119 ave_loss 0.0234\n",
            "Epoch 6 Step 159 ave_loss 0.0420\n",
            "Epoch 6 Step 199 ave_loss 0.0119\n",
            "              precision    recall  f1-score   support\n",
            "\n",
            "          2C       0.66      0.89      0.76       409\n",
            "          3C       0.57      0.86      0.68       367\n",
            "          4C       0.90      0.54      0.68       831\n",
            "\n",
            "    accuracy                           0.70      1607\n",
            "   macro avg       0.71      0.76      0.71      1607\n",
            "weighted avg       0.76      0.70      0.70      1607\n",
            "\n",
            "---------------------------------------------------------------\n",
            "Epoch 7 Step 39 ave_loss 0.0181\n",
            "Epoch 7 Step 79 ave_loss 0.0194\n",
            "Epoch 7 Step 119 ave_loss 0.0283\n",
            "Epoch 7 Step 159 ave_loss 0.0141\n",
            "Epoch 7 Step 199 ave_loss 0.0131\n",
            "              precision    recall  f1-score   support\n",
            "\n",
            "          2C       0.91      0.79      0.85       409\n",
            "          3C       0.57      0.91      0.70       367\n",
            "          4C       0.99      0.79      0.88       831\n",
            "\n",
            "    accuracy                           0.82      1607\n",
            "   macro avg       0.82      0.83      0.81      1607\n",
            "weighted avg       0.87      0.82      0.83      1607\n",
            "\n",
            "---------------------------------------------------------------\n",
            "Epoch 8 Step 39 ave_loss 0.0481\n",
            "Epoch 8 Step 79 ave_loss 0.0056\n",
            "Epoch 8 Step 119 ave_loss 0.0152\n",
            "Epoch 8 Step 159 ave_loss 0.0108\n",
            "Epoch 8 Step 199 ave_loss 0.0352\n",
            "              precision    recall  f1-score   support\n",
            "\n",
            "          2C       0.71      0.98      0.82       409\n",
            "          3C       0.53      0.68      0.60       367\n",
            "          4C       0.88      0.61      0.72       831\n",
            "\n",
            "    accuracy                           0.72      1607\n",
            "   macro avg       0.71      0.76      0.71      1607\n",
            "weighted avg       0.76      0.72      0.72      1607\n",
            "\n",
            "---------------------------------------------------------------\n",
            "Epoch 9 Step 39 ave_loss 0.0329\n",
            "Epoch 9 Step 79 ave_loss 0.0409\n",
            "Epoch 9 Step 119 ave_loss 0.0282\n",
            "Epoch 9 Step 159 ave_loss 0.0290\n",
            "Epoch 9 Step 199 ave_loss 0.0729\n",
            "              precision    recall  f1-score   support\n",
            "\n",
            "          2C       0.84      0.95      0.89       409\n",
            "          3C       0.69      0.94      0.79       367\n",
            "          4C       1.00      0.77      0.87       831\n",
            "\n",
            "    accuracy                           0.86      1607\n",
            "   macro avg       0.84      0.89      0.85      1607\n",
            "weighted avg       0.89      0.86      0.86      1607\n",
            "\n",
            "---------------------------------------------------------------\n"
          ]
        }
      ]
    },
    {
      "cell_type": "code",
      "metadata": {
        "id": "6ZFk5k1XzHmc",
        "colab": {
          "base_uri": "https://localhost:8080/"
        },
        "outputId": "6f413af3-f2ca-40dc-bde0-fce312605d4b"
      },
      "source": [
        "modelVGG19 = main(model='vgg19')"
      ],
      "execution_count": null,
      "outputs": [
        {
          "output_type": "stream",
          "name": "stdout",
          "text": [
            "cuda:0\n",
            "Epoch 0 Step 39 ave_loss 1.0974\n",
            "Epoch 0 Step 79 ave_loss 1.0920\n",
            "Epoch 0 Step 119 ave_loss 1.0964\n",
            "Epoch 0 Step 159 ave_loss 1.0973\n",
            "Epoch 0 Step 199 ave_loss 1.0956\n"
          ]
        },
        {
          "output_type": "stream",
          "name": "stderr",
          "text": [
            "/usr/local/lib/python3.7/dist-packages/sklearn/metrics/_classification.py:1318: UndefinedMetricWarning: Precision and F-score are ill-defined and being set to 0.0 in labels with no predicted samples. Use `zero_division` parameter to control this behavior.\n",
            "  _warn_prf(average, modifier, msg_start, len(result))\n",
            "/usr/local/lib/python3.7/dist-packages/sklearn/metrics/_classification.py:1318: UndefinedMetricWarning: Precision and F-score are ill-defined and being set to 0.0 in labels with no predicted samples. Use `zero_division` parameter to control this behavior.\n",
            "  _warn_prf(average, modifier, msg_start, len(result))\n",
            "/usr/local/lib/python3.7/dist-packages/sklearn/metrics/_classification.py:1318: UndefinedMetricWarning: Precision and F-score are ill-defined and being set to 0.0 in labels with no predicted samples. Use `zero_division` parameter to control this behavior.\n",
            "  _warn_prf(average, modifier, msg_start, len(result))\n"
          ]
        },
        {
          "output_type": "stream",
          "name": "stdout",
          "text": [
            "              precision    recall  f1-score   support\n",
            "\n",
            "          2C       0.25      1.00      0.41       409\n",
            "          3C       0.00      0.00      0.00       367\n",
            "          4C       0.00      0.00      0.00       831\n",
            "\n",
            "    accuracy                           0.25      1607\n",
            "   macro avg       0.08      0.33      0.14      1607\n",
            "weighted avg       0.06      0.25      0.10      1607\n",
            "\n",
            "---------------------------------------------------------------\n",
            "Epoch 1 Step 39 ave_loss 1.0978\n",
            "Epoch 1 Step 79 ave_loss 1.0958\n",
            "Epoch 1 Step 119 ave_loss 1.0986\n",
            "Epoch 1 Step 159 ave_loss 1.1000\n",
            "Epoch 1 Step 199 ave_loss 1.0962\n"
          ]
        },
        {
          "output_type": "stream",
          "name": "stderr",
          "text": [
            "/usr/local/lib/python3.7/dist-packages/sklearn/metrics/_classification.py:1318: UndefinedMetricWarning: Precision and F-score are ill-defined and being set to 0.0 in labels with no predicted samples. Use `zero_division` parameter to control this behavior.\n",
            "  _warn_prf(average, modifier, msg_start, len(result))\n",
            "/usr/local/lib/python3.7/dist-packages/sklearn/metrics/_classification.py:1318: UndefinedMetricWarning: Precision and F-score are ill-defined and being set to 0.0 in labels with no predicted samples. Use `zero_division` parameter to control this behavior.\n",
            "  _warn_prf(average, modifier, msg_start, len(result))\n",
            "/usr/local/lib/python3.7/dist-packages/sklearn/metrics/_classification.py:1318: UndefinedMetricWarning: Precision and F-score are ill-defined and being set to 0.0 in labels with no predicted samples. Use `zero_division` parameter to control this behavior.\n",
            "  _warn_prf(average, modifier, msg_start, len(result))\n"
          ]
        },
        {
          "output_type": "stream",
          "name": "stdout",
          "text": [
            "              precision    recall  f1-score   support\n",
            "\n",
            "          2C       0.25      1.00      0.41       409\n",
            "          3C       0.00      0.00      0.00       367\n",
            "          4C       0.00      0.00      0.00       831\n",
            "\n",
            "    accuracy                           0.25      1607\n",
            "   macro avg       0.08      0.33      0.14      1607\n",
            "weighted avg       0.06      0.25      0.10      1607\n",
            "\n",
            "---------------------------------------------------------------\n",
            "Epoch 2 Step 39 ave_loss 1.0961\n",
            "Epoch 2 Step 79 ave_loss 1.0960\n",
            "Epoch 2 Step 119 ave_loss 1.0991\n",
            "Epoch 2 Step 159 ave_loss 1.0980\n",
            "Epoch 2 Step 199 ave_loss 1.0983\n"
          ]
        },
        {
          "output_type": "stream",
          "name": "stderr",
          "text": [
            "/usr/local/lib/python3.7/dist-packages/sklearn/metrics/_classification.py:1318: UndefinedMetricWarning: Precision and F-score are ill-defined and being set to 0.0 in labels with no predicted samples. Use `zero_division` parameter to control this behavior.\n",
            "  _warn_prf(average, modifier, msg_start, len(result))\n",
            "/usr/local/lib/python3.7/dist-packages/sklearn/metrics/_classification.py:1318: UndefinedMetricWarning: Precision and F-score are ill-defined and being set to 0.0 in labels with no predicted samples. Use `zero_division` parameter to control this behavior.\n",
            "  _warn_prf(average, modifier, msg_start, len(result))\n",
            "/usr/local/lib/python3.7/dist-packages/sklearn/metrics/_classification.py:1318: UndefinedMetricWarning: Precision and F-score are ill-defined and being set to 0.0 in labels with no predicted samples. Use `zero_division` parameter to control this behavior.\n",
            "  _warn_prf(average, modifier, msg_start, len(result))\n"
          ]
        },
        {
          "output_type": "stream",
          "name": "stdout",
          "text": [
            "              precision    recall  f1-score   support\n",
            "\n",
            "          2C       0.00      0.00      0.00       409\n",
            "          3C       0.23      1.00      0.37       367\n",
            "          4C       0.00      0.00      0.00       831\n",
            "\n",
            "    accuracy                           0.23      1607\n",
            "   macro avg       0.08      0.33      0.12      1607\n",
            "weighted avg       0.05      0.23      0.08      1607\n",
            "\n",
            "---------------------------------------------------------------\n",
            "Epoch 3 Step 39 ave_loss 1.0979\n",
            "Epoch 3 Step 79 ave_loss 1.0960\n",
            "Epoch 3 Step 119 ave_loss 1.0957\n",
            "Epoch 3 Step 159 ave_loss 1.0953\n",
            "Epoch 3 Step 199 ave_loss 1.0988\n"
          ]
        },
        {
          "output_type": "stream",
          "name": "stderr",
          "text": [
            "/usr/local/lib/python3.7/dist-packages/sklearn/metrics/_classification.py:1318: UndefinedMetricWarning: Precision and F-score are ill-defined and being set to 0.0 in labels with no predicted samples. Use `zero_division` parameter to control this behavior.\n",
            "  _warn_prf(average, modifier, msg_start, len(result))\n",
            "/usr/local/lib/python3.7/dist-packages/sklearn/metrics/_classification.py:1318: UndefinedMetricWarning: Precision and F-score are ill-defined and being set to 0.0 in labels with no predicted samples. Use `zero_division` parameter to control this behavior.\n",
            "  _warn_prf(average, modifier, msg_start, len(result))\n",
            "/usr/local/lib/python3.7/dist-packages/sklearn/metrics/_classification.py:1318: UndefinedMetricWarning: Precision and F-score are ill-defined and being set to 0.0 in labels with no predicted samples. Use `zero_division` parameter to control this behavior.\n",
            "  _warn_prf(average, modifier, msg_start, len(result))\n"
          ]
        },
        {
          "output_type": "stream",
          "name": "stdout",
          "text": [
            "              precision    recall  f1-score   support\n",
            "\n",
            "          2C       0.25      1.00      0.41       409\n",
            "          3C       0.00      0.00      0.00       367\n",
            "          4C       0.00      0.00      0.00       831\n",
            "\n",
            "    accuracy                           0.25      1607\n",
            "   macro avg       0.08      0.33      0.14      1607\n",
            "weighted avg       0.06      0.25      0.10      1607\n",
            "\n",
            "---------------------------------------------------------------\n",
            "Epoch 4 Step 39 ave_loss 1.0988\n",
            "Epoch 4 Step 79 ave_loss 1.0970\n",
            "Epoch 4 Step 119 ave_loss 1.0966\n",
            "Epoch 4 Step 159 ave_loss 1.0971\n",
            "Epoch 4 Step 199 ave_loss 1.0935\n"
          ]
        },
        {
          "output_type": "stream",
          "name": "stderr",
          "text": [
            "/usr/local/lib/python3.7/dist-packages/sklearn/metrics/_classification.py:1318: UndefinedMetricWarning: Precision and F-score are ill-defined and being set to 0.0 in labels with no predicted samples. Use `zero_division` parameter to control this behavior.\n",
            "  _warn_prf(average, modifier, msg_start, len(result))\n",
            "/usr/local/lib/python3.7/dist-packages/sklearn/metrics/_classification.py:1318: UndefinedMetricWarning: Precision and F-score are ill-defined and being set to 0.0 in labels with no predicted samples. Use `zero_division` parameter to control this behavior.\n",
            "  _warn_prf(average, modifier, msg_start, len(result))\n",
            "/usr/local/lib/python3.7/dist-packages/sklearn/metrics/_classification.py:1318: UndefinedMetricWarning: Precision and F-score are ill-defined and being set to 0.0 in labels with no predicted samples. Use `zero_division` parameter to control this behavior.\n",
            "  _warn_prf(average, modifier, msg_start, len(result))\n"
          ]
        },
        {
          "output_type": "stream",
          "name": "stdout",
          "text": [
            "              precision    recall  f1-score   support\n",
            "\n",
            "          2C       0.25      1.00      0.41       409\n",
            "          3C       0.00      0.00      0.00       367\n",
            "          4C       0.00      0.00      0.00       831\n",
            "\n",
            "    accuracy                           0.25      1607\n",
            "   macro avg       0.08      0.33      0.14      1607\n",
            "weighted avg       0.06      0.25      0.10      1607\n",
            "\n",
            "---------------------------------------------------------------\n",
            "Epoch 5 Step 39 ave_loss 1.0958\n",
            "Epoch 5 Step 79 ave_loss 1.0986\n",
            "Epoch 5 Step 119 ave_loss 1.0966\n",
            "Epoch 5 Step 159 ave_loss 1.0959\n",
            "Epoch 5 Step 199 ave_loss 1.1001\n"
          ]
        },
        {
          "output_type": "stream",
          "name": "stderr",
          "text": [
            "/usr/local/lib/python3.7/dist-packages/sklearn/metrics/_classification.py:1318: UndefinedMetricWarning: Precision and F-score are ill-defined and being set to 0.0 in labels with no predicted samples. Use `zero_division` parameter to control this behavior.\n",
            "  _warn_prf(average, modifier, msg_start, len(result))\n",
            "/usr/local/lib/python3.7/dist-packages/sklearn/metrics/_classification.py:1318: UndefinedMetricWarning: Precision and F-score are ill-defined and being set to 0.0 in labels with no predicted samples. Use `zero_division` parameter to control this behavior.\n",
            "  _warn_prf(average, modifier, msg_start, len(result))\n",
            "/usr/local/lib/python3.7/dist-packages/sklearn/metrics/_classification.py:1318: UndefinedMetricWarning: Precision and F-score are ill-defined and being set to 0.0 in labels with no predicted samples. Use `zero_division` parameter to control this behavior.\n",
            "  _warn_prf(average, modifier, msg_start, len(result))\n"
          ]
        },
        {
          "output_type": "stream",
          "name": "stdout",
          "text": [
            "              precision    recall  f1-score   support\n",
            "\n",
            "          2C       0.25      1.00      0.41       409\n",
            "          3C       0.00      0.00      0.00       367\n",
            "          4C       0.00      0.00      0.00       831\n",
            "\n",
            "    accuracy                           0.25      1607\n",
            "   macro avg       0.08      0.33      0.14      1607\n",
            "weighted avg       0.06      0.25      0.10      1607\n",
            "\n",
            "---------------------------------------------------------------\n",
            "Epoch 6 Step 39 ave_loss 1.0933\n",
            "Epoch 6 Step 79 ave_loss 1.0964\n",
            "Epoch 6 Step 119 ave_loss 1.0973\n",
            "Epoch 6 Step 159 ave_loss 1.0942\n",
            "Epoch 6 Step 199 ave_loss 1.0970\n"
          ]
        },
        {
          "output_type": "stream",
          "name": "stderr",
          "text": [
            "/usr/local/lib/python3.7/dist-packages/sklearn/metrics/_classification.py:1318: UndefinedMetricWarning: Precision and F-score are ill-defined and being set to 0.0 in labels with no predicted samples. Use `zero_division` parameter to control this behavior.\n",
            "  _warn_prf(average, modifier, msg_start, len(result))\n",
            "/usr/local/lib/python3.7/dist-packages/sklearn/metrics/_classification.py:1318: UndefinedMetricWarning: Precision and F-score are ill-defined and being set to 0.0 in labels with no predicted samples. Use `zero_division` parameter to control this behavior.\n",
            "  _warn_prf(average, modifier, msg_start, len(result))\n",
            "/usr/local/lib/python3.7/dist-packages/sklearn/metrics/_classification.py:1318: UndefinedMetricWarning: Precision and F-score are ill-defined and being set to 0.0 in labels with no predicted samples. Use `zero_division` parameter to control this behavior.\n",
            "  _warn_prf(average, modifier, msg_start, len(result))\n"
          ]
        },
        {
          "output_type": "stream",
          "name": "stdout",
          "text": [
            "              precision    recall  f1-score   support\n",
            "\n",
            "          2C       1.00      0.07      0.12       409\n",
            "          3C       0.23      1.00      0.38       367\n",
            "          4C       0.00      0.00      0.00       831\n",
            "\n",
            "    accuracy                           0.25      1607\n",
            "   macro avg       0.41      0.36      0.17      1607\n",
            "weighted avg       0.31      0.25      0.12      1607\n",
            "\n",
            "---------------------------------------------------------------\n",
            "Epoch 7 Step 39 ave_loss 1.0798\n",
            "Epoch 7 Step 79 ave_loss 1.0974\n",
            "Epoch 7 Step 119 ave_loss 1.1001\n",
            "Epoch 7 Step 159 ave_loss 1.0966\n",
            "Epoch 7 Step 199 ave_loss 1.0986\n"
          ]
        },
        {
          "output_type": "stream",
          "name": "stderr",
          "text": [
            "/usr/local/lib/python3.7/dist-packages/sklearn/metrics/_classification.py:1318: UndefinedMetricWarning: Precision and F-score are ill-defined and being set to 0.0 in labels with no predicted samples. Use `zero_division` parameter to control this behavior.\n",
            "  _warn_prf(average, modifier, msg_start, len(result))\n",
            "/usr/local/lib/python3.7/dist-packages/sklearn/metrics/_classification.py:1318: UndefinedMetricWarning: Precision and F-score are ill-defined and being set to 0.0 in labels with no predicted samples. Use `zero_division` parameter to control this behavior.\n",
            "  _warn_prf(average, modifier, msg_start, len(result))\n",
            "/usr/local/lib/python3.7/dist-packages/sklearn/metrics/_classification.py:1318: UndefinedMetricWarning: Precision and F-score are ill-defined and being set to 0.0 in labels with no predicted samples. Use `zero_division` parameter to control this behavior.\n",
            "  _warn_prf(average, modifier, msg_start, len(result))\n"
          ]
        },
        {
          "output_type": "stream",
          "name": "stdout",
          "text": [
            "              precision    recall  f1-score   support\n",
            "\n",
            "          2C       0.00      0.00      0.00       409\n",
            "          3C       0.23      1.00      0.37       367\n",
            "          4C       0.00      0.00      0.00       831\n",
            "\n",
            "    accuracy                           0.23      1607\n",
            "   macro avg       0.08      0.33      0.12      1607\n",
            "weighted avg       0.05      0.23      0.08      1607\n",
            "\n",
            "---------------------------------------------------------------\n",
            "Epoch 8 Step 39 ave_loss 1.0966\n",
            "Epoch 8 Step 79 ave_loss 1.0979\n",
            "Epoch 8 Step 119 ave_loss 1.0976\n",
            "Epoch 8 Step 159 ave_loss 1.0991\n",
            "Epoch 8 Step 199 ave_loss 1.0951\n"
          ]
        },
        {
          "output_type": "stream",
          "name": "stderr",
          "text": [
            "/usr/local/lib/python3.7/dist-packages/sklearn/metrics/_classification.py:1318: UndefinedMetricWarning: Precision and F-score are ill-defined and being set to 0.0 in labels with no predicted samples. Use `zero_division` parameter to control this behavior.\n",
            "  _warn_prf(average, modifier, msg_start, len(result))\n",
            "/usr/local/lib/python3.7/dist-packages/sklearn/metrics/_classification.py:1318: UndefinedMetricWarning: Precision and F-score are ill-defined and being set to 0.0 in labels with no predicted samples. Use `zero_division` parameter to control this behavior.\n",
            "  _warn_prf(average, modifier, msg_start, len(result))\n",
            "/usr/local/lib/python3.7/dist-packages/sklearn/metrics/_classification.py:1318: UndefinedMetricWarning: Precision and F-score are ill-defined and being set to 0.0 in labels with no predicted samples. Use `zero_division` parameter to control this behavior.\n",
            "  _warn_prf(average, modifier, msg_start, len(result))\n"
          ]
        },
        {
          "output_type": "stream",
          "name": "stdout",
          "text": [
            "              precision    recall  f1-score   support\n",
            "\n",
            "          2C       0.25      1.00      0.41       409\n",
            "          3C       0.00      0.00      0.00       367\n",
            "          4C       0.00      0.00      0.00       831\n",
            "\n",
            "    accuracy                           0.25      1607\n",
            "   macro avg       0.08      0.33      0.14      1607\n",
            "weighted avg       0.06      0.25      0.10      1607\n",
            "\n",
            "---------------------------------------------------------------\n",
            "Epoch 9 Step 39 ave_loss 1.0982\n",
            "Epoch 9 Step 79 ave_loss 1.0981\n",
            "Epoch 9 Step 119 ave_loss 1.0975\n",
            "Epoch 9 Step 159 ave_loss 1.0973\n",
            "Epoch 9 Step 199 ave_loss 1.0943\n"
          ]
        },
        {
          "output_type": "stream",
          "name": "stderr",
          "text": [
            "/usr/local/lib/python3.7/dist-packages/sklearn/metrics/_classification.py:1318: UndefinedMetricWarning: Precision and F-score are ill-defined and being set to 0.0 in labels with no predicted samples. Use `zero_division` parameter to control this behavior.\n",
            "  _warn_prf(average, modifier, msg_start, len(result))\n",
            "/usr/local/lib/python3.7/dist-packages/sklearn/metrics/_classification.py:1318: UndefinedMetricWarning: Precision and F-score are ill-defined and being set to 0.0 in labels with no predicted samples. Use `zero_division` parameter to control this behavior.\n",
            "  _warn_prf(average, modifier, msg_start, len(result))\n",
            "/usr/local/lib/python3.7/dist-packages/sklearn/metrics/_classification.py:1318: UndefinedMetricWarning: Precision and F-score are ill-defined and being set to 0.0 in labels with no predicted samples. Use `zero_division` parameter to control this behavior.\n",
            "  _warn_prf(average, modifier, msg_start, len(result))\n"
          ]
        },
        {
          "output_type": "stream",
          "name": "stdout",
          "text": [
            "              precision    recall  f1-score   support\n",
            "\n",
            "          2C       0.00      0.00      0.00       409\n",
            "          3C       0.23      1.00      0.37       367\n",
            "          4C       0.00      0.00      0.00       831\n",
            "\n",
            "    accuracy                           0.23      1607\n",
            "   macro avg       0.08      0.33      0.12      1607\n",
            "weighted avg       0.05      0.23      0.08      1607\n",
            "\n",
            "---------------------------------------------------------------\n"
          ]
        }
      ]
    },
    {
      "cell_type": "code",
      "metadata": {
        "id": "xWShWiKGzMzV",
        "colab": {
          "base_uri": "https://localhost:8080/"
        },
        "outputId": "84fb166d-6a1b-4d85-fff2-60f321e2edb9"
      },
      "source": [
        "modelResNet50 = main(model='resnet50')"
      ],
      "execution_count": null,
      "outputs": [
        {
          "output_type": "stream",
          "name": "stdout",
          "text": [
            "cuda:0\n",
            "Epoch 0 Step 39 ave_loss 3.5496\n",
            "Epoch 0 Step 79 ave_loss 1.5851\n",
            "Epoch 0 Step 119 ave_loss 1.3564\n",
            "Epoch 0 Step 159 ave_loss 1.1872\n",
            "Epoch 0 Step 199 ave_loss 1.1425\n",
            "              precision    recall  f1-score   support\n",
            "\n",
            "          2C       0.26      0.90      0.40       409\n",
            "          3C       0.31      0.14      0.20       367\n",
            "          4C       0.00      0.00      0.00       831\n",
            "\n",
            "    accuracy                           0.26      1607\n",
            "   macro avg       0.19      0.35      0.20      1607\n",
            "weighted avg       0.14      0.26      0.15      1607\n",
            "\n",
            "---------------------------------------------------------------\n"
          ]
        },
        {
          "output_type": "stream",
          "name": "stderr",
          "text": [
            "/usr/local/lib/python3.7/dist-packages/sklearn/metrics/_classification.py:1318: UndefinedMetricWarning: Precision and F-score are ill-defined and being set to 0.0 in labels with no predicted samples. Use `zero_division` parameter to control this behavior.\n",
            "  _warn_prf(average, modifier, msg_start, len(result))\n",
            "/usr/local/lib/python3.7/dist-packages/sklearn/metrics/_classification.py:1318: UndefinedMetricWarning: Precision and F-score are ill-defined and being set to 0.0 in labels with no predicted samples. Use `zero_division` parameter to control this behavior.\n",
            "  _warn_prf(average, modifier, msg_start, len(result))\n",
            "/usr/local/lib/python3.7/dist-packages/sklearn/metrics/_classification.py:1318: UndefinedMetricWarning: Precision and F-score are ill-defined and being set to 0.0 in labels with no predicted samples. Use `zero_division` parameter to control this behavior.\n",
            "  _warn_prf(average, modifier, msg_start, len(result))\n"
          ]
        },
        {
          "output_type": "stream",
          "name": "stdout",
          "text": [
            "Epoch 1 Step 39 ave_loss 1.0797\n",
            "Epoch 1 Step 79 ave_loss 1.0303\n",
            "Epoch 1 Step 119 ave_loss 0.9923\n",
            "Epoch 1 Step 159 ave_loss 0.9309\n",
            "Epoch 1 Step 199 ave_loss 0.8660\n"
          ]
        },
        {
          "output_type": "stream",
          "name": "stderr",
          "text": [
            "/usr/local/lib/python3.7/dist-packages/sklearn/metrics/_classification.py:1318: UndefinedMetricWarning: Precision and F-score are ill-defined and being set to 0.0 in labels with no predicted samples. Use `zero_division` parameter to control this behavior.\n",
            "  _warn_prf(average, modifier, msg_start, len(result))\n",
            "/usr/local/lib/python3.7/dist-packages/sklearn/metrics/_classification.py:1318: UndefinedMetricWarning: Precision and F-score are ill-defined and being set to 0.0 in labels with no predicted samples. Use `zero_division` parameter to control this behavior.\n",
            "  _warn_prf(average, modifier, msg_start, len(result))\n",
            "/usr/local/lib/python3.7/dist-packages/sklearn/metrics/_classification.py:1318: UndefinedMetricWarning: Precision and F-score are ill-defined and being set to 0.0 in labels with no predicted samples. Use `zero_division` parameter to control this behavior.\n",
            "  _warn_prf(average, modifier, msg_start, len(result))\n"
          ]
        },
        {
          "output_type": "stream",
          "name": "stdout",
          "text": [
            "              precision    recall  f1-score   support\n",
            "\n",
            "          2C       0.37      0.90      0.52       409\n",
            "          3C       0.21      0.36      0.27       367\n",
            "          4C       0.00      0.00      0.00       831\n",
            "\n",
            "    accuracy                           0.31      1607\n",
            "   macro avg       0.19      0.42      0.26      1607\n",
            "weighted avg       0.14      0.31      0.19      1607\n",
            "\n",
            "---------------------------------------------------------------\n",
            "Epoch 2 Step 39 ave_loss 0.8437\n",
            "Epoch 2 Step 79 ave_loss 0.6863\n",
            "Epoch 2 Step 119 ave_loss 0.7407\n",
            "Epoch 2 Step 159 ave_loss 0.5750\n",
            "Epoch 2 Step 199 ave_loss 0.4624\n",
            "              precision    recall  f1-score   support\n",
            "\n",
            "          2C       0.66      0.67      0.67       409\n",
            "          3C       0.56      0.62      0.59       367\n",
            "          4C       0.87      0.82      0.84       831\n",
            "\n",
            "    accuracy                           0.74      1607\n",
            "   macro avg       0.70      0.70      0.70      1607\n",
            "weighted avg       0.74      0.74      0.74      1607\n",
            "\n",
            "---------------------------------------------------------------\n",
            "Epoch 3 Step 39 ave_loss 0.6170\n",
            "Epoch 3 Step 79 ave_loss 0.4992\n",
            "Epoch 3 Step 119 ave_loss 0.3610\n",
            "Epoch 3 Step 159 ave_loss 0.3712\n",
            "Epoch 3 Step 199 ave_loss 0.2365\n",
            "              precision    recall  f1-score   support\n",
            "\n",
            "          2C       0.57      0.92      0.70       409\n",
            "          3C       1.00      0.34      0.51       367\n",
            "          4C       0.75      0.74      0.74       831\n",
            "\n",
            "    accuracy                           0.70      1607\n",
            "   macro avg       0.77      0.67      0.65      1607\n",
            "weighted avg       0.76      0.70      0.68      1607\n",
            "\n",
            "---------------------------------------------------------------\n",
            "Epoch 4 Step 39 ave_loss 0.1657\n",
            "Epoch 4 Step 79 ave_loss 0.1728\n",
            "Epoch 4 Step 119 ave_loss 0.1918\n",
            "Epoch 4 Step 159 ave_loss 0.1682\n",
            "Epoch 4 Step 199 ave_loss 0.1550\n",
            "              precision    recall  f1-score   support\n",
            "\n",
            "          2C       0.55      0.69      0.61       409\n",
            "          3C       0.62      0.81      0.70       367\n",
            "          4C       0.94      0.70      0.80       831\n",
            "\n",
            "    accuracy                           0.72      1607\n",
            "   macro avg       0.70      0.73      0.70      1607\n",
            "weighted avg       0.77      0.72      0.73      1607\n",
            "\n",
            "---------------------------------------------------------------\n",
            "Epoch 5 Step 39 ave_loss 0.1347\n",
            "Epoch 5 Step 79 ave_loss 0.1309\n",
            "Epoch 5 Step 119 ave_loss 0.0824\n",
            "Epoch 5 Step 159 ave_loss 0.0682\n",
            "Epoch 5 Step 199 ave_loss 0.0731\n",
            "              precision    recall  f1-score   support\n",
            "\n",
            "          2C       0.70      0.88      0.78       409\n",
            "          3C       0.76      0.79      0.77       367\n",
            "          4C       0.96      0.81      0.88       831\n",
            "\n",
            "    accuracy                           0.83      1607\n",
            "   macro avg       0.80      0.83      0.81      1607\n",
            "weighted avg       0.84      0.83      0.83      1607\n",
            "\n",
            "---------------------------------------------------------------\n",
            "Epoch 6 Step 39 ave_loss 0.1074\n",
            "Epoch 6 Step 79 ave_loss 0.0749\n",
            "Epoch 6 Step 119 ave_loss 0.0485\n",
            "Epoch 6 Step 159 ave_loss 0.0763\n",
            "Epoch 6 Step 199 ave_loss 0.0731\n",
            "              precision    recall  f1-score   support\n",
            "\n",
            "          2C       0.80      0.61      0.69       409\n",
            "          3C       0.47      0.93      0.62       367\n",
            "          4C       0.99      0.68      0.80       831\n",
            "\n",
            "    accuracy                           0.72      1607\n",
            "   macro avg       0.75      0.74      0.71      1607\n",
            "weighted avg       0.82      0.72      0.73      1607\n",
            "\n",
            "---------------------------------------------------------------\n",
            "Epoch 7 Step 39 ave_loss 0.0592\n",
            "Epoch 7 Step 79 ave_loss 0.0708\n",
            "Epoch 7 Step 119 ave_loss 0.0626\n",
            "Epoch 7 Step 159 ave_loss 0.0544\n",
            "Epoch 7 Step 199 ave_loss 0.0872\n",
            "              precision    recall  f1-score   support\n",
            "\n",
            "          2C       0.85      0.78      0.81       409\n",
            "          3C       0.72      0.57      0.64       367\n",
            "          4C       0.84      0.95      0.89       831\n",
            "\n",
            "    accuracy                           0.82      1607\n",
            "   macro avg       0.80      0.77      0.78      1607\n",
            "weighted avg       0.81      0.82      0.81      1607\n",
            "\n",
            "---------------------------------------------------------------\n",
            "Epoch 8 Step 39 ave_loss 0.0397\n",
            "Epoch 8 Step 79 ave_loss 0.0279\n",
            "Epoch 8 Step 119 ave_loss 0.0472\n",
            "Epoch 8 Step 159 ave_loss 0.0415\n",
            "Epoch 8 Step 199 ave_loss 0.0782\n",
            "              precision    recall  f1-score   support\n",
            "\n",
            "          2C       0.79      0.89      0.84       409\n",
            "          3C       0.66      0.78      0.71       367\n",
            "          4C       0.96      0.82      0.89       831\n",
            "\n",
            "    accuracy                           0.83      1607\n",
            "   macro avg       0.80      0.83      0.81      1607\n",
            "weighted avg       0.85      0.83      0.84      1607\n",
            "\n",
            "---------------------------------------------------------------\n",
            "Epoch 9 Step 39 ave_loss 0.0247\n",
            "Epoch 9 Step 79 ave_loss 0.0330\n",
            "Epoch 9 Step 119 ave_loss 0.0535\n",
            "Epoch 9 Step 159 ave_loss 0.0259\n",
            "Epoch 9 Step 199 ave_loss 0.0247\n",
            "              precision    recall  f1-score   support\n",
            "\n",
            "          2C       0.95      0.75      0.84       409\n",
            "          3C       0.68      0.68      0.68       367\n",
            "          4C       0.81      0.90      0.86       831\n",
            "\n",
            "    accuracy                           0.81      1607\n",
            "   macro avg       0.81      0.78      0.79      1607\n",
            "weighted avg       0.82      0.81      0.81      1607\n",
            "\n",
            "---------------------------------------------------------------\n"
          ]
        }
      ]
    },
    {
      "cell_type": "code",
      "metadata": {
        "id": "dVuqNSpXr7IQ"
      },
      "source": [
        ""
      ],
      "execution_count": null,
      "outputs": []
    }
  ]
}